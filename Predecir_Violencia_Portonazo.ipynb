{
  "nbformat": 4,
  "nbformat_minor": 0,
  "metadata": {
    "colab": {
      "name": "Predecir Violencia Portonazo",
      "provenance": [],
      "toc_visible": true,
      "authorship_tag": "ABX9TyOTqofNJUDwNLzNE+PN+KRw",
      "include_colab_link": true
    },
    "kernelspec": {
      "name": "python3",
      "display_name": "Python 3"
    },
    "language_info": {
      "name": "python"
    }
  },
  "cells": [
    {
      "cell_type": "markdown",
      "metadata": {
        "id": "view-in-github",
        "colab_type": "text"
      },
      "source": [
        "<a href=\"https://colab.research.google.com/github/krs-aire/ML/blob/main/Predecir_Violencia_Portonazo.ipynb\" target=\"_parent\"><img src=\"https://colab.research.google.com/assets/colab-badge.svg\" alt=\"Open In Colab\"/></a>"
      ]
    },
    {
      "cell_type": "markdown",
      "source": [
        "**Subir archivo con los datos**\n"
      ],
      "metadata": {
        "id": "jPXekGtEGnrp"
      }
    },
    {
      "cell_type": "code",
      "source": [
        "from google.colab import files\n",
        "uploaded = files.upload()"
      ],
      "metadata": {
        "id": "k30NMJD1GttI"
      },
      "execution_count": null,
      "outputs": []
    },
    {
      "cell_type": "markdown",
      "source": [
        "**Cargar contendido del archivo en variable (dataset)**"
      ],
      "metadata": {
        "id": "8ZUcZosPRF6W"
      }
    },
    {
      "cell_type": "code",
      "source": [
        "import io\n",
        "import pandas as pd\n",
        "datos_portonazo = pd.read_csv(io.BytesIO(uploaded['Crime.csv']))\n",
        "datos_portonazo"
      ],
      "metadata": {
        "id": "756apvVTRQMH"
      },
      "execution_count": null,
      "outputs": []
    },
    {
      "cell_type": "code",
      "source": [
        "valores_acto = {'acto': {'portonazo':1, 'motoshorro':2}}\n",
        "datos_portonazo.replace(valores_acto,inplace=True)"
      ],
      "metadata": {
        "id": "6hNGnxEMaqae"
      },
      "execution_count": null,
      "outputs": []
    },
    {
      "cell_type": "code",
      "source": [
        "datos_portonazo.info()"
      ],
      "metadata": {
        "id": "U-IOSWFCUn_Z"
      },
      "execution_count": null,
      "outputs": []
    },
    {
      "cell_type": "code",
      "source": [
        "datos_portonazo['acto'] = pd.to_numeric(datos_portonazo['acto'],errors='coerce')\n",
        "datos_portonazo.describe()"
      ],
      "metadata": {
        "id": "hqkcji3yVwEQ"
      },
      "execution_count": null,
      "outputs": []
    },
    {
      "cell_type": "markdown",
      "source": [
        "**Graficos**"
      ],
      "metadata": {
        "id": "ptSv3GpIXV-6"
      }
    },
    {
      "cell_type": "code",
      "source": [
        "datos_portonazo.hist()"
      ],
      "metadata": {
        "id": "CtiPdLVUXAt7"
      },
      "execution_count": null,
      "outputs": []
    },
    {
      "cell_type": "markdown",
      "source": [
        "**Eliminar datos superfluos**"
      ],
      "metadata": {
        "id": "rGc9-iwsX2Jn"
      }
    },
    {
      "cell_type": "code",
      "source": [
        "#datos_portonazo = datos_portonazo.drop(columns = ['id','codigo policial','acto','lugar','hora','min','dia','mes','ano','exitoso','N-participantes'])\n",
        "datos_portonazo = datos_portonazo.drop(columns = ['id','codigo policial'])\n",
        "datos_portonazo"
      ],
      "metadata": {
        "id": "H05K1semX8_N"
      },
      "execution_count": null,
      "outputs": []
    },
    {
      "cell_type": "code",
      "source": [
        "datos_portonazo.isna().sum()"
      ],
      "metadata": {
        "id": "Yr7rYU_oZMmX"
      },
      "execution_count": null,
      "outputs": []
    },
    {
      "cell_type": "code",
      "source": [
        "datos_portonazo['Violencia-1-10'].unique()"
      ],
      "metadata": {
        "id": "CrWaLv2lZ1yB"
      },
      "execution_count": null,
      "outputs": []
    },
    {
      "cell_type": "markdown",
      "source": [
        "**pintado de datos**"
      ],
      "metadata": {
        "id": "JaqLRnQyc1Wq"
      }
    },
    {
      "cell_type": "code",
      "source": [
        "import matplotlib.pyplot as plt\n",
        "plt.scatter(x = datos_portonazo['Violencia-1-10'],y = datos_portonazo['arma usada 0-5'])\n",
        "plt.title(\"Violencia vs Armas\")\n",
        "plt.xlabel('Violencia')\n",
        "plt.ylabel('Armas')\n",
        "plt.show()"
      ],
      "metadata": {
        "id": "wMXd9EAIc5uB"
      },
      "execution_count": null,
      "outputs": []
    },
    {
      "cell_type": "markdown",
      "source": [
        "**Datos entrenameinte y de test**"
      ],
      "metadata": {
        "id": "7vbn6jROgvUa"
      }
    },
    {
      "cell_type": "code",
      "source": [
        "entrenamiento = datos_portonazo.sample(frac=0.8, random_state=0)\n",
        "test = datos_portonazo.drop(entrenamiento.index)\n",
        "entrenamiento\n"
      ],
      "metadata": {
        "id": "tKEl1Ojfg0-m"
      },
      "execution_count": null,
      "outputs": []
    },
    {
      "cell_type": "code",
      "source": [
        "test"
      ],
      "metadata": {
        "id": "9nn4xcP0iYhw"
      },
      "execution_count": null,
      "outputs": []
    },
    {
      "cell_type": "code",
      "source": [
        "etq_entrenamiento = entrenamiento.pop('Violencia-1-10')\n",
        "etq_test = test.pop('Violencia-1-10')"
      ],
      "metadata": {
        "id": "kg5GL1bKjw5h"
      },
      "execution_count": null,
      "outputs": []
    },
    {
      "cell_type": "code",
      "source": [
        "etq_entrenamiento\n"
      ],
      "metadata": {
        "id": "klqPBeqvlGX2"
      },
      "execution_count": null,
      "outputs": []
    },
    {
      "cell_type": "code",
      "source": [
        "etq_test"
      ],
      "metadata": {
        "id": "kc3giid2lMD9"
      },
      "execution_count": null,
      "outputs": []
    },
    {
      "cell_type": "code",
      "source": [
        "entrenamiento"
      ],
      "metadata": {
        "id": "lj_9y7kLlmd7"
      },
      "execution_count": null,
      "outputs": []
    },
    {
      "cell_type": "code",
      "source": [
        "test"
      ],
      "metadata": {
        "id": "ucmzIXzSlr4E"
      },
      "execution_count": null,
      "outputs": []
    },
    {
      "cell_type": "code",
      "source": [
        "from sklearn.linear_model import LinearRegression\n",
        "model = LinearRegression()\n",
        "model.fit(entrenamiento,etq_entrenamiento)"
      ],
      "metadata": {
        "id": "VBKMuL2glwWo"
      },
      "execution_count": null,
      "outputs": []
    },
    {
      "cell_type": "code",
      "source": [
        "predicciones = model.predict(test)\n",
        "predicciones"
      ],
      "metadata": {
        "id": "tAkB-z_KnAv-"
      },
      "execution_count": null,
      "outputs": []
    },
    {
      "cell_type": "markdown",
      "source": [
        ""
      ],
      "metadata": {
        "id": "t9WuuI5cnUmh"
      }
    },
    {
      "cell_type": "code",
      "source": [
        "import numpy as np\n",
        "from sklearn.metrics import mean_squared_error\n",
        "error = np.sqrt(mean_squared_error(etq_test,predicciones))\n",
        "print(\"Error Porcentual : %f\" % (error*100))"
      ],
      "metadata": {
        "id": "mmyskXIanq2J"
      },
      "execution_count": null,
      "outputs": []
    },
    {
      "cell_type": "markdown",
      "source": [
        "**Nuevo delito**"
      ],
      "metadata": {
        "id": "jXdjSxD6hGsH"
      }
    },
    {
      "cell_type": "code",
      "source": [
        "n_portonazo = pd.DataFrame(np.array([(1,3,5,26,11,2022,250,1,3,5)]),columns=['acto','hora','min','dia','mes','ano','lugar','exitoso','arma usada 0-5','N-participantes'])"
      ],
      "metadata": {
        "id": "SlZDvKWThJSw"
      },
      "execution_count": null,
      "outputs": []
    },
    {
      "cell_type": "code",
      "source": [
        "entrenamiento.columns\n"
      ],
      "metadata": {
        "id": "_0BGe0eub85A"
      },
      "execution_count": null,
      "outputs": []
    },
    {
      "cell_type": "code",
      "source": [
        "n_portonazo"
      ],
      "metadata": {
        "id": "t6i6uryCX4c5"
      },
      "execution_count": null,
      "outputs": []
    },
    {
      "cell_type": "code",
      "source": [
        "model.predict(n_portonazo)"
      ],
      "metadata": {
        "id": "S4qyEd0ynlG-"
      },
      "execution_count": null,
      "outputs": []
    }
  ]
}